{
 "cells": [
  {
   "cell_type": "markdown",
   "metadata": {},
   "source": [
    "# Binary Classification Twitter Sentiment Analysis in Python"
   ]
  },
  {
   "cell_type": "code",
   "execution_count": 2,
   "metadata": {},
   "outputs": [],
   "source": [
    "import numpy as np\n",
    "import pandas as pd\n",
    "import matplotlib.pyplot as plt\n",
    "import statsmodels.api as sm\n",
    "import sklearn\n",
    "import plotly"
   ]
  },
  {
   "cell_type": "markdown",
   "metadata": {},
   "source": [
    "### Read in the training dataset as a Pandas DataFrame"
   ]
  },
  {
   "cell_type": "code",
   "execution_count": 13,
   "metadata": {},
   "outputs": [
    {
     "data": {
      "text/html": [
       "<div>\n",
       "<style scoped>\n",
       "    .dataframe tbody tr th:only-of-type {\n",
       "        vertical-align: middle;\n",
       "    }\n",
       "\n",
       "    .dataframe tbody tr th {\n",
       "        vertical-align: top;\n",
       "    }\n",
       "\n",
       "    .dataframe thead th {\n",
       "        text-align: right;\n",
       "    }\n",
       "</style>\n",
       "<table border=\"1\" class=\"dataframe\">\n",
       "  <thead>\n",
       "    <tr style=\"text-align: right;\">\n",
       "      <th></th>\n",
       "      <th>Sentiment</th>\n",
       "      <th>id</th>\n",
       "      <th>Date</th>\n",
       "      <th>Query</th>\n",
       "      <th>User</th>\n",
       "      <th>Tweet</th>\n",
       "    </tr>\n",
       "  </thead>\n",
       "  <tbody>\n",
       "    <tr>\n",
       "      <th>0</th>\n",
       "      <td>4</td>\n",
       "      <td>2014351367</td>\n",
       "      <td>Wed Jun 03 01:14:33 PDT 2009</td>\n",
       "      <td>NO_QUERY</td>\n",
       "      <td>cathyleehart</td>\n",
       "      <td>@just_tam21 hahah its kind of the same as adel...</td>\n",
       "    </tr>\n",
       "    <tr>\n",
       "      <th>1</th>\n",
       "      <td>4</td>\n",
       "      <td>1984531826</td>\n",
       "      <td>Sun May 31 15:17:28 PDT 2009</td>\n",
       "      <td>NO_QUERY</td>\n",
       "      <td>carlawaslike</td>\n",
       "      <td>@Austinjamest sweeeet can't wait to go there w...</td>\n",
       "    </tr>\n",
       "    <tr>\n",
       "      <th>2</th>\n",
       "      <td>4</td>\n",
       "      <td>2185079853</td>\n",
       "      <td>Mon Jun 15 16:51:18 PDT 2009</td>\n",
       "      <td>NO_QUERY</td>\n",
       "      <td>Rommellll</td>\n",
       "      <td>You said you changed how wrong i proved you  n...</td>\n",
       "    </tr>\n",
       "    <tr>\n",
       "      <th>3</th>\n",
       "      <td>4</td>\n",
       "      <td>1998128979</td>\n",
       "      <td>Mon Jun 01 18:02:23 PDT 2009</td>\n",
       "      <td>NO_QUERY</td>\n",
       "      <td>pauljopling</td>\n",
       "      <td>I can't wait for New Moon after seeing the tra...</td>\n",
       "    </tr>\n",
       "    <tr>\n",
       "      <th>4</th>\n",
       "      <td>4</td>\n",
       "      <td>2182994010</td>\n",
       "      <td>Mon Jun 15 13:54:26 PDT 2009</td>\n",
       "      <td>NO_QUERY</td>\n",
       "      <td>thisgoodlife</td>\n",
       "      <td>@nicolassa new drum carder? SWEET!</td>\n",
       "    </tr>\n",
       "  </tbody>\n",
       "</table>\n",
       "</div>"
      ],
      "text/plain": [
       "   Sentiment          id                          Date     Query  \\\n",
       "0          4  2014351367  Wed Jun 03 01:14:33 PDT 2009  NO_QUERY   \n",
       "1          4  1984531826  Sun May 31 15:17:28 PDT 2009  NO_QUERY   \n",
       "2          4  2185079853  Mon Jun 15 16:51:18 PDT 2009  NO_QUERY   \n",
       "3          4  1998128979  Mon Jun 01 18:02:23 PDT 2009  NO_QUERY   \n",
       "4          4  2182994010  Mon Jun 15 13:54:26 PDT 2009  NO_QUERY   \n",
       "\n",
       "           User                                              Tweet  \n",
       "0  cathyleehart  @just_tam21 hahah its kind of the same as adel...  \n",
       "1  carlawaslike  @Austinjamest sweeeet can't wait to go there w...  \n",
       "2     Rommellll  You said you changed how wrong i proved you  n...  \n",
       "3   pauljopling  I can't wait for New Moon after seeing the tra...  \n",
       "4  thisgoodlife                @nicolassa new drum carder? SWEET!   "
      ]
     },
     "execution_count": 13,
     "metadata": {},
     "output_type": "execute_result"
    }
   ],
   "source": [
    "df_train = pd.read_csv(\"data/train_dataset_20k.csv\")\n",
    "df_train.head()"
   ]
  },
  {
   "cell_type": "markdown",
   "metadata": {},
   "source": [
    "### By default, sentiments are labeled as \"4\" for positive and \"0\" for negative. For legibility purposes, I'm adjusting the training dataset by replacing the 4's with 1's, and also by getting rid of unnecessary columns."
   ]
  },
  {
   "cell_type": "code",
   "execution_count": 15,
   "metadata": {},
   "outputs": [
    {
     "data": {
      "text/html": [
       "<div>\n",
       "<style scoped>\n",
       "    .dataframe tbody tr th:only-of-type {\n",
       "        vertical-align: middle;\n",
       "    }\n",
       "\n",
       "    .dataframe tbody tr th {\n",
       "        vertical-align: top;\n",
       "    }\n",
       "\n",
       "    .dataframe thead th {\n",
       "        text-align: right;\n",
       "    }\n",
       "</style>\n",
       "<table border=\"1\" class=\"dataframe\">\n",
       "  <thead>\n",
       "    <tr style=\"text-align: right;\">\n",
       "      <th></th>\n",
       "      <th>Sentiment</th>\n",
       "      <th>id</th>\n",
       "      <th>Tweet</th>\n",
       "    </tr>\n",
       "  </thead>\n",
       "  <tbody>\n",
       "    <tr>\n",
       "      <th>0</th>\n",
       "      <td>1</td>\n",
       "      <td>2014351367</td>\n",
       "      <td>@just_tam21 hahah its kind of the same as adel...</td>\n",
       "    </tr>\n",
       "    <tr>\n",
       "      <th>1</th>\n",
       "      <td>1</td>\n",
       "      <td>1984531826</td>\n",
       "      <td>@Austinjamest sweeeet can't wait to go there w...</td>\n",
       "    </tr>\n",
       "    <tr>\n",
       "      <th>2</th>\n",
       "      <td>1</td>\n",
       "      <td>2185079853</td>\n",
       "      <td>You said you changed how wrong i proved you  n...</td>\n",
       "    </tr>\n",
       "    <tr>\n",
       "      <th>3</th>\n",
       "      <td>1</td>\n",
       "      <td>1998128979</td>\n",
       "      <td>I can't wait for New Moon after seeing the tra...</td>\n",
       "    </tr>\n",
       "    <tr>\n",
       "      <th>4</th>\n",
       "      <td>1</td>\n",
       "      <td>2182994010</td>\n",
       "      <td>@nicolassa new drum carder? SWEET!</td>\n",
       "    </tr>\n",
       "  </tbody>\n",
       "</table>\n",
       "</div>"
      ],
      "text/plain": [
       "   Sentiment          id                                              Tweet\n",
       "0          1  2014351367  @just_tam21 hahah its kind of the same as adel...\n",
       "1          1  1984531826  @Austinjamest sweeeet can't wait to go there w...\n",
       "2          1  2185079853  You said you changed how wrong i proved you  n...\n",
       "3          1  1998128979  I can't wait for New Moon after seeing the tra...\n",
       "4          1  2182994010                @nicolassa new drum carder? SWEET! "
      ]
     },
     "execution_count": 15,
     "metadata": {},
     "output_type": "execute_result"
    }
   ],
   "source": [
    "df_train = df_train[[\"Sentiment\", \"id\", \"Tweet\"]]\n",
    "df_train.replace(4, 1, inplace=True)\n",
    "df_train.head()"
   ]
  },
  {
   "cell_type": "code",
   "execution_count": 18,
   "metadata": {},
   "outputs": [
    {
     "data": {
      "text/html": [
       "<div>\n",
       "<style scoped>\n",
       "    .dataframe tbody tr th:only-of-type {\n",
       "        vertical-align: middle;\n",
       "    }\n",
       "\n",
       "    .dataframe tbody tr th {\n",
       "        vertical-align: top;\n",
       "    }\n",
       "\n",
       "    .dataframe thead th {\n",
       "        text-align: right;\n",
       "    }\n",
       "</style>\n",
       "<table border=\"1\" class=\"dataframe\">\n",
       "  <thead>\n",
       "    <tr style=\"text-align: right;\">\n",
       "      <th></th>\n",
       "      <th>Sentiment</th>\n",
       "      <th>id</th>\n",
       "      <th>Tweet</th>\n",
       "    </tr>\n",
       "  </thead>\n",
       "  <tbody>\n",
       "    <tr>\n",
       "      <th>19995</th>\n",
       "      <td>0</td>\n",
       "      <td>2326042821</td>\n",
       "      <td>up too dmn early.</td>\n",
       "    </tr>\n",
       "    <tr>\n",
       "      <th>19996</th>\n",
       "      <td>0</td>\n",
       "      <td>1932403017</td>\n",
       "      <td>Well, here i go again.</td>\n",
       "    </tr>\n",
       "    <tr>\n",
       "      <th>19997</th>\n",
       "      <td>0</td>\n",
       "      <td>2223712854</td>\n",
       "      <td>my internet is being sooo slow...</td>\n",
       "    </tr>\n",
       "    <tr>\n",
       "      <th>19998</th>\n",
       "      <td>0</td>\n",
       "      <td>1685271504</td>\n",
       "      <td>Tired. Need to learn script. Do this vid. And ...</td>\n",
       "    </tr>\n",
       "    <tr>\n",
       "      <th>19999</th>\n",
       "      <td>0</td>\n",
       "      <td>2226099360</td>\n",
       "      <td>its so ugly and gloomy outside. where did the ...</td>\n",
       "    </tr>\n",
       "  </tbody>\n",
       "</table>\n",
       "</div>"
      ],
      "text/plain": [
       "       Sentiment          id  \\\n",
       "19995          0  2326042821   \n",
       "19996          0  1932403017   \n",
       "19997          0  2223712854   \n",
       "19998          0  1685271504   \n",
       "19999          0  2226099360   \n",
       "\n",
       "                                                   Tweet  \n",
       "19995                                 up too dmn early.   \n",
       "19996                            Well, here i go again.   \n",
       "19997                 my internet is being sooo slow...   \n",
       "19998  Tired. Need to learn script. Do this vid. And ...  \n",
       "19999  its so ugly and gloomy outside. where did the ...  "
      ]
     },
     "execution_count": 18,
     "metadata": {},
     "output_type": "execute_result"
    }
   ],
   "source": [
    "df_train.tail()"
   ]
  },
  {
   "cell_type": "code",
   "execution_count": null,
   "metadata": {},
   "outputs": [],
   "source": []
  }
 ],
 "metadata": {
  "kernelspec": {
   "display_name": "Python 3.9.7",
   "language": "python",
   "name": "python3"
  },
  "language_info": {
   "codemirror_mode": {
    "name": "ipython",
    "version": 3
   },
   "file_extension": ".py",
   "mimetype": "text/x-python",
   "name": "python",
   "nbconvert_exporter": "python",
   "pygments_lexer": "ipython3",
   "version": "3.9.7"
  },
  "orig_nbformat": 4,
  "vscode": {
   "interpreter": {
    "hash": "44725e87ea676ad54a1d04bd571a955ef3e1f81ad317abec2d67776713178d01"
   }
  }
 },
 "nbformat": 4,
 "nbformat_minor": 2
}
